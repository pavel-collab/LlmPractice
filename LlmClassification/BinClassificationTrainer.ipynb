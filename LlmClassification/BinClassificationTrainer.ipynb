{
 "cells": [
  {
   "cell_type": "code",
   "execution_count": null,
   "metadata": {
    "id": "C69faBXrthSo"
   },
   "outputs": [],
   "source": [
    "# if u run this notebook in collab, install this dependences\n",
    "\n",
    "# !pip install transformers\n",
    "# !pip install datasets\n",
    "# !pip install wandb"
   ]
  },
  {
   "cell_type": "code",
   "execution_count": 1,
   "metadata": {
    "id": "q7toa_OqthSq"
   },
   "outputs": [
    {
     "name": "stderr",
     "output_type": "stream",
     "text": [
      "/home/pavel/Projects/Science/.venv/lib/python3.10/site-packages/tqdm/auto.py:21: TqdmWarning: IProgress not found. Please update jupyter and ipywidgets. See https://ipywidgets.readthedocs.io/en/stable/user_install.html\n",
      "  from .autonotebook import tqdm as notebook_tqdm\n",
      "/home/pavel/Projects/Science/.venv/lib/python3.10/site-packages/torch/cuda/__init__.py:141: UserWarning: CUDA initialization: CUDA unknown error - this may be due to an incorrectly set up environment, e.g. changing env variable CUDA_VISIBLE_DEVICES after program start. Setting the available devices to be zero. (Triggered internally at ../c10/cuda/CUDAFunctions.cpp:108.)\n",
      "  return torch._C._cuda_getDeviceCount() > 0\n",
      "The installed version of bitsandbytes was compiled without GPU support. 8-bit optimizers, 8-bit multiplication, and GPU quantization are unavailable.\n"
     ]
    }
   ],
   "source": [
    "from transformers import AutoTokenizer, AutoModelForSequenceClassification, TrainingArguments, Trainer, DataCollatorWithPadding\n",
    "from sklearn.metrics import f1_score, roc_auc_score, accuracy_score\n",
    "from transformers import EvalPrediction\n",
    "import torch\n",
    "import numpy as np\n",
    "from datasets import Dataset, load_dataset\n",
    "import wandb\n",
    "from datetime import datetime\n",
    "import pandas as pd\n",
    "import datasets"
   ]
  },
  {
   "cell_type": "code",
   "execution_count": 2,
   "metadata": {
    "id": "1m7WgQg_thSr"
   },
   "outputs": [],
   "source": [
    "dataset = load_dataset(\"glue\", \"mrpc\")"
   ]
  },
  {
   "cell_type": "code",
   "execution_count": 3,
   "metadata": {
    "id": "MfEaoj53vI1k"
   },
   "outputs": [],
   "source": [
    "def preproces_dataset(raw_dataset):\n",
    "  df = pd.DataFrame(raw_dataset)\n",
    "  one_hot_encoded = pd.get_dummies(df['label'], prefix='label')\n",
    "  df = pd.concat([df, one_hot_encoded], axis=1)\n",
    "  df.drop('label', axis=1, inplace=True)\n",
    "  df.drop('idx', axis=1, inplace=True)\n",
    "  new_dataset = Dataset.from_pandas(df)\n",
    "  return new_dataset\n",
    "\n",
    "def preproces_dict_dataset(raw_dataset):\n",
    "  train_dataset = raw_dataset['train']\n",
    "  validation_dataset = raw_dataset['validation']\n",
    "  test_dataset = raw_dataset['test']\n",
    "\n",
    "  train_dataset = preproces_dataset(train_dataset)\n",
    "  validation_dataset = preproces_dataset(validation_dataset)\n",
    "  test_dataset = preproces_dataset(test_dataset)\n",
    "\n",
    "  dataset = datasets.dataset_dict.DatasetDict({\n",
    "    'train': train_dataset,\n",
    "    'validation': validation_dataset,\n",
    "    'test': test_dataset\n",
    "  })\n",
    "  return dataset\n"
   ]
  },
  {
   "cell_type": "code",
   "execution_count": 4,
   "metadata": {
    "id": "NCxn4IaQw7lX"
   },
   "outputs": [],
   "source": [
    "dataset = preproces_dict_dataset(dataset)"
   ]
  },
  {
   "cell_type": "code",
   "execution_count": 5,
   "metadata": {
    "id": "2Swu6Wz2thSs"
   },
   "outputs": [],
   "source": [
    "labels = ['label_0', 'label_1']\n",
    "id2label = {idx:label for idx, label in enumerate(labels)}\n",
    "label2id = {label:idx for idx, label in enumerate(labels)}"
   ]
  },
  {
   "cell_type": "code",
   "execution_count": 6,
   "metadata": {
    "id": "tf5IBz3t9WoI"
   },
   "outputs": [],
   "source": [
    "MODEL_NAME = \"google/mobilebert-uncased\""
   ]
  },
  {
   "cell_type": "code",
   "execution_count": 7,
   "metadata": {
    "id": "R3GaQrmLthSt"
   },
   "outputs": [],
   "source": [
    "tokenizer = AutoTokenizer.from_pretrained(MODEL_NAME)"
   ]
  },
  {
   "cell_type": "code",
   "execution_count": 8,
   "metadata": {
    "id": "9JLBLL2m9WoJ"
   },
   "outputs": [
    {
     "name": "stderr",
     "output_type": "stream",
     "text": [
      "Some weights of MobileBertForSequenceClassification were not initialized from the model checkpoint at google/mobilebert-uncased and are newly initialized: ['classifier.bias', 'classifier.weight']\n",
      "You should probably TRAIN this model on a down-stream task to be able to use it for predictions and inference.\n"
     ]
    }
   ],
   "source": [
    "model = AutoModelForSequenceClassification.from_pretrained(MODEL_NAME,\n",
    "                                                           problem_type=\"multi_label_classification\",\n",
    "                                                           num_labels=len(labels),\n",
    "                                                           id2label=id2label,\n",
    "                                                           label2id=label2id)"
   ]
  },
  {
   "cell_type": "code",
   "execution_count": 9,
   "metadata": {
    "id": "Fo19DDLg9WoK"
   },
   "outputs": [],
   "source": [
    "if tokenizer.pad_token is None:\n",
    "    tokenizer.add_special_tokens({'pad_token': '[PAD]'})\n",
    "    model.resize_token_embeddings(len(tokenizer))\n",
    "\n",
    "if model.config.pad_token_id == None:\n",
    "    model.config.pad_token_id = model.config.eos_token_id\n",
    "    model.config.pad_token = tokenizer.pad_token"
   ]
  },
  {
   "cell_type": "code",
   "execution_count": null,
   "metadata": {
    "id": "iHcqTuvl9vk-"
   },
   "outputs": [
    {
     "name": "stdout",
     "output_type": "stream",
     "text": [
      "BertConfig {\n",
      "  \"_name_or_path\": \"huawei-noah/TinyBERT_General_4L_312D\",\n",
      "  \"attention_probs_dropout_prob\": 0.1,\n",
      "  \"cell\": {},\n",
      "  \"classifier_dropout\": null,\n",
      "  \"emb_size\": 312,\n",
      "  \"hidden_act\": \"gelu\",\n",
      "  \"hidden_dropout_prob\": 0.1,\n",
      "  \"hidden_size\": 312,\n",
      "  \"id2label\": {\n",
      "    \"0\": \"label_0\",\n",
      "    \"1\": \"label_1\"\n",
      "  },\n",
      "  \"initializer_range\": 0.02,\n",
      "  \"intermediate_size\": 1200,\n",
      "  \"label2id\": {\n",
      "    \"label_0\": 0,\n",
      "    \"label_1\": 1\n",
      "  },\n",
      "  \"layer_norm_eps\": 1e-12,\n",
      "  \"max_position_embeddings\": 512,\n",
      "  \"model_type\": \"bert\",\n",
      "  \"num_attention_heads\": 12,\n",
      "  \"num_hidden_layers\": 4,\n",
      "  \"pad_token_id\": 0,\n",
      "  \"position_embedding_type\": \"absolute\",\n",
      "  \"pre_trained\": \"\",\n",
      "  \"problem_type\": \"multi_label_classification\",\n",
      "  \"structure\": [],\n",
      "  \"transformers_version\": \"4.40.0\",\n",
      "  \"type_vocab_size\": 2,\n",
      "  \"use_cache\": true,\n",
      "  \"vocab_size\": 30522\n",
      "}\n",
      "\n"
     ]
    }
   ],
   "source": [
    "# # let's explore internal structure of model.config\n",
    "# print(model.config)"
   ]
  },
  {
   "cell_type": "code",
   "execution_count": 10,
   "metadata": {
    "id": "XxhWy5dZthSt"
   },
   "outputs": [],
   "source": [
    "def preprocess_data(examples):\n",
    "  # take a batch of texts\n",
    "  text = [examples[\"sentence1\"], examples[\"sentence2\"]]\n",
    "  # encode them\n",
    "  encoding = tokenizer(*text, padding=\"max_length\", truncation=True, max_length=128)\n",
    "  n_samples, sample_len = np.shape(np.array(encoding['input_ids']))\n",
    "  # add labels\n",
    "  labels_batch = {k: examples[k] for k in examples.keys() if k in labels}\n",
    "  # create numpy array of shape (batch_size, num_labels)\n",
    "  labels_matrix = np.zeros((n_samples, len(labels)))\n",
    "  # fill numpy array\n",
    "  for idx, label in enumerate(labels):\n",
    "    labels_matrix[:, idx] = labels_batch[label]\n",
    "\n",
    "  encoding[\"labels\"] = labels_matrix.tolist()\n",
    "\n",
    "  return encoding"
   ]
  },
  {
   "cell_type": "code",
   "execution_count": 11,
   "metadata": {
    "id": "tgxujlRvthSu"
   },
   "outputs": [
    {
     "name": "stderr",
     "output_type": "stream",
     "text": [
      "Map:   0%|          | 0/3668 [00:00<?, ? examples/s]"
     ]
    },
    {
     "name": "stderr",
     "output_type": "stream",
     "text": [
      "Map: 100%|██████████| 3668/3668 [00:00<00:00, 5367.83 examples/s]\n",
      "Map: 100%|██████████| 408/408 [00:00<00:00, 4815.52 examples/s]\n",
      "Map: 100%|██████████| 1725/1725 [00:00<00:00, 4532.23 examples/s]\n"
     ]
    }
   ],
   "source": [
    "encoded_dataset = dataset.map(preprocess_data, batched=True, remove_columns=dataset['train'].column_names)"
   ]
  },
  {
   "cell_type": "code",
   "execution_count": null,
   "metadata": {
    "id": "U-_FonEIthSv"
   },
   "outputs": [],
   "source": [
    "# # Alternative way to preprocess data\n",
    "# def tokenize_function(example):\n",
    "#     return tokenizer(example[\"sentence1\"], example[\"sentence2\"], truncation=True)\n",
    "\n",
    "# # here we use datacollator, that means, that batching and paddig will be applied to the dataset during the training\n",
    "# tokenized_datasets = train_dataset.map(tokenize_function, batched=True)\n",
    "# data_collator = DataCollatorWithPadding(tokenizer=tokenizer, padding=True)"
   ]
  },
  {
   "cell_type": "code",
   "execution_count": 12,
   "metadata": {
    "id": "fabb8QjfthSw"
   },
   "outputs": [
    {
     "name": "stdout",
     "output_type": "stream",
     "text": [
      "dict_keys(['input_ids', 'token_type_ids', 'attention_mask', 'labels'])\n",
      "[CLS] amrozi accused his brother, whom he called \" the witness \", of deliberately distorting his evidence. [SEP] referring to him as only \" the witness \", amrozi accused his brother of deliberately distorting his evidence. [SEP] [PAD] [PAD] [PAD] [PAD] [PAD] [PAD] [PAD] [PAD] [PAD] [PAD] [PAD] [PAD] [PAD] [PAD] [PAD] [PAD] [PAD] [PAD] [PAD] [PAD] [PAD] [PAD] [PAD] [PAD] [PAD] [PAD] [PAD] [PAD] [PAD] [PAD] [PAD] [PAD] [PAD] [PAD] [PAD] [PAD] [PAD] [PAD] [PAD] [PAD] [PAD] [PAD] [PAD] [PAD] [PAD] [PAD] [PAD] [PAD] [PAD] [PAD] [PAD] [PAD] [PAD] [PAD] [PAD] [PAD] [PAD] [PAD] [PAD] [PAD] [PAD] [PAD] [PAD] [PAD] [PAD] [PAD] [PAD] [PAD] [PAD] [PAD] [PAD] [PAD] [PAD] [PAD] [PAD] [PAD] [PAD] [PAD]\n",
      "[0.0, 1.0]\n",
      "['label_1']\n"
     ]
    }
   ],
   "source": [
    "example = encoded_dataset['train'][0]\n",
    "print(example.keys())\n",
    "print(tokenizer.decode(example['input_ids']))\n",
    "print(example['labels'])\n",
    "print([id2label[idx] for idx, label in enumerate(example['labels']) if label == 1.0])"
   ]
  },
  {
   "cell_type": "code",
   "execution_count": 13,
   "metadata": {
    "id": "0yeS5s7xthSw"
   },
   "outputs": [],
   "source": [
    "encoded_dataset.set_format(\"torch\")"
   ]
  },
  {
   "cell_type": "code",
   "execution_count": 14,
   "metadata": {
    "id": "r1dASHBCyyaQ"
   },
   "outputs": [
    {
     "data": {
      "text/plain": [
       "torch.Tensor"
      ]
     },
     "execution_count": 14,
     "metadata": {},
     "output_type": "execute_result"
    }
   ],
   "source": [
    "type(encoded_dataset['train']['input_ids'])"
   ]
  },
  {
   "cell_type": "code",
   "execution_count": 15,
   "metadata": {
    "id": "9NSVUJaAthSx"
   },
   "outputs": [],
   "source": [
    "batch_size = 8\n",
    "metric_name = \"f1\"\n",
    "\n",
    "args = TrainingArguments(\n",
    "    f\"{MODEL_NAME}\",\n",
    "    evaluation_strategy = \"epoch\",\n",
    "    save_strategy = \"epoch\",\n",
    "    learning_rate=2e-5,\n",
    "    per_device_train_batch_size=batch_size,\n",
    "    per_device_eval_batch_size=batch_size,\n",
    "    num_train_epochs=10,\n",
    "    weight_decay=0.01,\n",
    "    load_best_model_at_end=True,\n",
    "    metric_for_best_model=metric_name\n",
    ")"
   ]
  },
  {
   "cell_type": "code",
   "execution_count": 16,
   "metadata": {
    "id": "jnCz62BzthSy"
   },
   "outputs": [],
   "source": [
    "# source: https://jesusleal.io/2021/04/21/Longformer-multilabel-classification/\n",
    "def multi_label_metrics(predictions, labels, threshold=0.5):\n",
    "    # first, apply sigmoid on predictions which are of shape (batch_size, num_labels)\n",
    "    sigmoid = torch.nn.Sigmoid()\n",
    "    probs = sigmoid(torch.Tensor(predictions))\n",
    "    # next, use threshold to turn them into integer predictions\n",
    "    y_pred = np.zeros(probs.shape)\n",
    "    y_pred[np.where(probs >= threshold)] = 1\n",
    "    # finally, compute metrics\n",
    "    y_true = labels\n",
    "    f1_micro_average = f1_score(y_true=y_true, y_pred=y_pred, average='micro')\n",
    "    roc_auc = roc_auc_score(y_true, y_pred, average = 'micro')\n",
    "    accuracy = accuracy_score(y_true, y_pred)\n",
    "    # return as dictionary\n",
    "    metrics = {'f1': f1_micro_average,\n",
    "               'roc_auc': roc_auc,\n",
    "               'accuracy': accuracy}\n",
    "    return metrics\n",
    "\n",
    "def compute_metrics(p: EvalPrediction):\n",
    "    preds = p.predictions[0] if isinstance(p.predictions,\n",
    "            tuple) else p.predictions\n",
    "    result = multi_label_metrics(\n",
    "        predictions=preds,\n",
    "        labels=p.label_ids)\n",
    "    return result"
   ]
  },
  {
   "cell_type": "markdown",
   "metadata": {
    "id": "4MBsMrahthSy"
   },
   "source": [
    "TODO: try to use raw model to predict some label"
   ]
  },
  {
   "cell_type": "code",
   "execution_count": 17,
   "metadata": {
    "id": "EguU7CtFthSz"
   },
   "outputs": [],
   "source": [
    "trainer = Trainer(\n",
    "    model,\n",
    "    args,\n",
    "    train_dataset=encoded_dataset[\"train\"],\n",
    "    eval_dataset=encoded_dataset[\"validation\"],\n",
    "    tokenizer=tokenizer,\n",
    "    compute_metrics=compute_metrics\n",
    ")"
   ]
  },
  {
   "cell_type": "code",
   "execution_count": 18,
   "metadata": {
    "id": "xnhMeUR6thSz"
   },
   "outputs": [
    {
     "name": "stderr",
     "output_type": "stream",
     "text": [
      "\u001b[34m\u001b[1mwandb\u001b[0m: Using wandb-core as the SDK backend.  Please refer to https://wandb.me/wandb-core for more information.\n",
      "\u001b[34m\u001b[1mwandb\u001b[0m: Currently logged in as: \u001b[33mrubikpf2002\u001b[0m (\u001b[33mrubikpf2002-mipt\u001b[0m). Use \u001b[1m`wandb login --relogin`\u001b[0m to force relogin\n"
     ]
    },
    {
     "data": {
      "text/html": [
       "Tracking run with wandb version 0.18.6"
      ],
      "text/plain": [
       "<IPython.core.display.HTML object>"
      ]
     },
     "metadata": {},
     "output_type": "display_data"
    },
    {
     "data": {
      "text/html": [
       "Run data is saved locally in <code>/home/pavel/Projects/Science/LlmClassification/wandb/run-20241112_200919-n10ml2yq</code>"
      ],
      "text/plain": [
       "<IPython.core.display.HTML object>"
      ]
     },
     "metadata": {},
     "output_type": "display_data"
    },
    {
     "data": {
      "text/html": [
       "Syncing run <strong><a href='https://wandb.ai/rubikpf2002-mipt/nlp-classifier/runs/n10ml2yq' target=\"_blank\">google/mobilebert-uncased-cls-12.11.2024-20.09.18</a></strong> to <a href='https://wandb.ai/rubikpf2002-mipt/nlp-classifier' target=\"_blank\">Weights & Biases</a> (<a href='https://wandb.me/developer-guide' target=\"_blank\">docs</a>)<br/>"
      ],
      "text/plain": [
       "<IPython.core.display.HTML object>"
      ]
     },
     "metadata": {},
     "output_type": "display_data"
    },
    {
     "data": {
      "text/html": [
       " View project at <a href='https://wandb.ai/rubikpf2002-mipt/nlp-classifier' target=\"_blank\">https://wandb.ai/rubikpf2002-mipt/nlp-classifier</a>"
      ],
      "text/plain": [
       "<IPython.core.display.HTML object>"
      ]
     },
     "metadata": {},
     "output_type": "display_data"
    },
    {
     "data": {
      "text/html": [
       " View run at <a href='https://wandb.ai/rubikpf2002-mipt/nlp-classifier/runs/n10ml2yq' target=\"_blank\">https://wandb.ai/rubikpf2002-mipt/nlp-classifier/runs/n10ml2yq</a>"
      ],
      "text/plain": [
       "<IPython.core.display.HTML object>"
      ]
     },
     "metadata": {},
     "output_type": "display_data"
    },
    {
     "data": {
      "text/html": [
       "<button onClick=\"this.nextSibling.style.display='block';this.style.display='none';\">Display W&B run</button><iframe src='https://wandb.ai/rubikpf2002-mipt/nlp-classifier/runs/n10ml2yq?jupyter=true' style='border:none;width:100%;height:420px;display:none;'></iframe>"
      ],
      "text/plain": [
       "<wandb.sdk.wandb_run.Run at 0x713f71218580>"
      ]
     },
     "execution_count": 18,
     "metadata": {},
     "output_type": "execute_result"
    }
   ],
   "source": [
    "date = datetime.strftime(datetime.now(), \"%d.%m.%Y-%H.%M.%S\")\n",
    "wandb.init(\n",
    "    # set the wandb project where this run will be logged\n",
    "    project=\"nlp-classifier\",\n",
    "    name=f\"{MODEL_NAME}-cls-{date}\",\n",
    "\n",
    "    # # track hyperparameters and run metadata\n",
    "    # config={\n",
    "    # \"learning_rate\": 0.02,\n",
    "    # \"architecture\": \"CNN\",\n",
    "    # \"dataset\": \"CIFAR-100\",\n",
    "    # \"epochs\": 10,\n",
    "    # }\n",
    ")"
   ]
  },
  {
   "cell_type": "code",
   "execution_count": 19,
   "metadata": {
    "id": "sAEgF-O7thS0"
   },
   "outputs": [
    {
     "name": "stderr",
     "output_type": "stream",
     "text": [
      "                                                    \n",
      " 10%|█         | 459/4590 [13:21<1:34:19,  1.37s/it]"
     ]
    },
    {
     "name": "stdout",
     "output_type": "stream",
     "text": [
      "{'eval_loss': 0.4312116503715515, 'eval_f1': 0.7682926829268293, 'eval_roc_auc': 0.767156862745098, 'eval_accuracy': 0.75, 'eval_runtime': 24.6327, 'eval_samples_per_second': 16.563, 'eval_steps_per_second': 2.07, 'epoch': 1.0}\n"
     ]
    },
    {
     "name": "stderr",
     "output_type": "stream",
     "text": [
      " 11%|█         | 500/4590 [14:27<1:46:25,  1.56s/it] "
     ]
    },
    {
     "name": "stdout",
     "output_type": "stream",
     "text": [
      "{'loss': 22112.762, 'grad_norm': 5.626082420349121, 'learning_rate': 1.7821350762527233e-05, 'epoch': 1.09}\n"
     ]
    },
    {
     "name": "stderr",
     "output_type": "stream",
     "text": [
      "                                                    \n",
      " 20%|██        | 918/4590 [26:03<1:30:39,  1.48s/it]"
     ]
    },
    {
     "name": "stdout",
     "output_type": "stream",
     "text": [
      "{'eval_loss': 0.33675694465637207, 'eval_f1': 0.8606658446362515, 'eval_roc_auc': 0.8615196078431373, 'eval_accuracy': 0.8480392156862745, 'eval_runtime': 24.266, 'eval_samples_per_second': 16.814, 'eval_steps_per_second': 2.102, 'epoch': 2.0}\n"
     ]
    },
    {
     "name": "stderr",
     "output_type": "stream",
     "text": [
      " 22%|██▏       | 1000/4590 [28:14<1:35:52,  1.60s/it]"
     ]
    },
    {
     "name": "stdout",
     "output_type": "stream",
     "text": [
      "{'loss': 0.4006, 'grad_norm': 24.380786895751953, 'learning_rate': 1.5642701525054468e-05, 'epoch': 2.18}\n"
     ]
    },
    {
     "name": "stderr",
     "output_type": "stream",
     "text": [
      "                                                     \n",
      " 30%|███       | 1377/4590 [38:28<1:19:47,  1.49s/it]"
     ]
    },
    {
     "name": "stdout",
     "output_type": "stream",
     "text": [
      "{'eval_loss': 0.4792243242263794, 'eval_f1': 0.8410757946210269, 'eval_roc_auc': 0.8406862745098039, 'eval_accuracy': 0.8357843137254902, 'eval_runtime': 23.0181, 'eval_samples_per_second': 17.725, 'eval_steps_per_second': 2.216, 'epoch': 3.0}\n"
     ]
    },
    {
     "name": "stderr",
     "output_type": "stream",
     "text": [
      " 33%|███▎      | 1500/4590 [41:40<1:17:17,  1.50s/it]"
     ]
    },
    {
     "name": "stdout",
     "output_type": "stream",
     "text": [
      "{'loss': 0.2802, 'grad_norm': 1.8744786977767944, 'learning_rate': 1.3464052287581701e-05, 'epoch': 3.27}\n"
     ]
    },
    {
     "name": "stderr",
     "output_type": "stream",
     "text": [
      "                                                     \n",
      " 40%|████      | 1836/4590 [51:43<1:04:55,  1.41s/it]"
     ]
    },
    {
     "name": "stdout",
     "output_type": "stream",
     "text": [
      "{'eval_loss': 0.6627210974693298, 'eval_f1': 0.8480392156862745, 'eval_roc_auc': 0.8480392156862746, 'eval_accuracy': 0.8455882352941176, 'eval_runtime': 25.5036, 'eval_samples_per_second': 15.998, 'eval_steps_per_second': 2.0, 'epoch': 4.0}\n"
     ]
    },
    {
     "name": "stderr",
     "output_type": "stream",
     "text": [
      " 44%|████▎     | 2000/4590 [56:47<1:38:19,  2.28s/it]"
     ]
    },
    {
     "name": "stdout",
     "output_type": "stream",
     "text": [
      "{'loss': 0.2361, 'grad_norm': 0.20242375135421753, 'learning_rate': 1.1285403050108935e-05, 'epoch': 4.36}\n"
     ]
    },
    {
     "name": "stderr",
     "output_type": "stream",
     "text": [
      "                                                       \n",
      " 50%|█████     | 2295/4590 [1:08:24<1:13:48,  1.93s/it]"
     ]
    },
    {
     "name": "stdout",
     "output_type": "stream",
     "text": [
      "{'eval_loss': 0.6542292833328247, 'eval_f1': 0.8760736196319019, 'eval_roc_auc': 0.8762254901960784, 'eval_accuracy': 0.875, 'eval_runtime': 35.0215, 'eval_samples_per_second': 11.65, 'eval_steps_per_second': 1.456, 'epoch': 5.0}\n"
     ]
    },
    {
     "name": "stderr",
     "output_type": "stream",
     "text": [
      " 54%|█████▍    | 2500/4590 [1:16:13<59:55,  1.72s/it]  "
     ]
    },
    {
     "name": "stdout",
     "output_type": "stream",
     "text": [
      "{'loss': 0.4516, 'grad_norm': 82.70254516601562, 'learning_rate': 9.106753812636166e-06, 'epoch': 5.45}\n"
     ]
    },
    {
     "name": "stderr",
     "output_type": "stream",
     "text": [
      "                                                       \n",
      " 60%|██████    | 2754/4590 [1:24:22<56:56,  1.86s/it]"
     ]
    },
    {
     "name": "stdout",
     "output_type": "stream",
     "text": [
      "{'eval_loss': 0.7753095626831055, 'eval_f1': 0.8578431372549019, 'eval_roc_auc': 0.857843137254902, 'eval_accuracy': 0.8578431372549019, 'eval_runtime': 32.0033, 'eval_samples_per_second': 12.749, 'eval_steps_per_second': 1.594, 'epoch': 6.0}\n"
     ]
    },
    {
     "name": "stderr",
     "output_type": "stream",
     "text": [
      " 65%|██████▌   | 3000/4590 [1:32:33<47:15,  1.78s/it]  "
     ]
    },
    {
     "name": "stdout",
     "output_type": "stream",
     "text": [
      "{'loss': 0.144, 'grad_norm': 17.5367374420166, 'learning_rate': 6.928104575163399e-06, 'epoch': 6.54}\n"
     ]
    },
    {
     "name": "stderr",
     "output_type": "stream",
     "text": [
      "                                                       \n",
      " 70%|███████   | 3213/4590 [1:40:02<43:38,  1.90s/it]"
     ]
    },
    {
     "name": "stdout",
     "output_type": "stream",
     "text": [
      "{'eval_loss': 0.9489344954490662, 'eval_f1': 0.8421052631578947, 'eval_roc_auc': 0.8419117647058824, 'eval_accuracy': 0.8406862745098039, 'eval_runtime': 33.994, 'eval_samples_per_second': 12.002, 'eval_steps_per_second': 1.5, 'epoch': 7.0}\n"
     ]
    },
    {
     "name": "stderr",
     "output_type": "stream",
     "text": [
      " 76%|███████▋  | 3500/4590 [1:50:14<42:16,  2.33s/it]  "
     ]
    },
    {
     "name": "stdout",
     "output_type": "stream",
     "text": [
      "{'loss': 0.0958, 'grad_norm': 0.09160790592432022, 'learning_rate': 4.749455337690632e-06, 'epoch': 7.63}\n"
     ]
    },
    {
     "name": "stderr",
     "output_type": "stream",
     "text": [
      "                                                     \n",
      " 80%|████████  | 3672/4590 [1:55:37<20:09,  1.32s/it]"
     ]
    },
    {
     "name": "stdout",
     "output_type": "stream",
     "text": [
      "{'eval_loss': 1.0753490924835205, 'eval_f1': 0.8501228501228502, 'eval_roc_auc': 0.8504901960784313, 'eval_accuracy': 0.8480392156862745, 'eval_runtime': 23.9862, 'eval_samples_per_second': 17.01, 'eval_steps_per_second': 2.126, 'epoch': 8.0}\n"
     ]
    },
    {
     "name": "stderr",
     "output_type": "stream",
     "text": [
      " 87%|████████▋ | 4000/4590 [2:04:07<14:39,  1.49s/it]  "
     ]
    },
    {
     "name": "stdout",
     "output_type": "stream",
     "text": [
      "{'loss': 0.078, 'grad_norm': 0.024523083120584488, 'learning_rate': 2.570806100217865e-06, 'epoch': 8.71}\n"
     ]
    },
    {
     "name": "stderr",
     "output_type": "stream",
     "text": [
      "                                                     \n",
      " 90%|█████████ | 4131/4590 [2:07:54<09:57,  1.30s/it]"
     ]
    },
    {
     "name": "stdout",
     "output_type": "stream",
     "text": [
      "{'eval_loss': 1.0042163133621216, 'eval_f1': 0.8539877300613496, 'eval_roc_auc': 0.8541666666666666, 'eval_accuracy': 0.8529411764705882, 'eval_runtime': 22.615, 'eval_samples_per_second': 18.041, 'eval_steps_per_second': 2.255, 'epoch': 9.0}\n"
     ]
    },
    {
     "name": "stderr",
     "output_type": "stream",
     "text": [
      " 98%|█████████▊| 4500/4590 [2:17:56<02:22,  1.58s/it]  "
     ]
    },
    {
     "name": "stdout",
     "output_type": "stream",
     "text": [
      "{'loss': 0.056, 'grad_norm': 0.027429426088929176, 'learning_rate': 3.921568627450981e-07, 'epoch': 9.8}\n"
     ]
    },
    {
     "name": "stderr",
     "output_type": "stream",
     "text": [
      "                                                     \n",
      "100%|██████████| 4590/4590 [2:20:40<00:00,  1.38s/it]"
     ]
    },
    {
     "name": "stdout",
     "output_type": "stream",
     "text": [
      "{'eval_loss': 1.0514111518859863, 'eval_f1': 0.8553921568627451, 'eval_roc_auc': 0.8553921568627451, 'eval_accuracy': 0.8553921568627451, 'eval_runtime': 23.9285, 'eval_samples_per_second': 17.051, 'eval_steps_per_second': 2.131, 'epoch': 10.0}\n"
     ]
    },
    {
     "name": "stderr",
     "output_type": "stream",
     "text": [
      "100%|██████████| 4590/4590 [2:20:40<00:00,  1.84s/it]"
     ]
    },
    {
     "name": "stdout",
     "output_type": "stream",
     "text": [
      "{'train_runtime': 8440.8931, 'train_samples_per_second': 4.346, 'train_steps_per_second': 0.544, 'train_loss': 2408.988544213642, 'epoch': 10.0}\n"
     ]
    },
    {
     "name": "stderr",
     "output_type": "stream",
     "text": [
      "\n"
     ]
    },
    {
     "data": {
      "text/plain": [
       "TrainOutput(global_step=4590, training_loss=2408.988544213642, metrics={'train_runtime': 8440.8931, 'train_samples_per_second': 4.346, 'train_steps_per_second': 0.544, 'total_flos': 575037137203200.0, 'train_loss': 2408.988544213642, 'epoch': 10.0})"
      ]
     },
     "execution_count": 19,
     "metadata": {},
     "output_type": "execute_result"
    }
   ],
   "source": [
    "trainer.train()"
   ]
  },
  {
   "cell_type": "code",
   "execution_count": 20,
   "metadata": {
    "id": "KRr81xYsthS0"
   },
   "outputs": [
    {
     "data": {
      "text/html": [
       "\n",
       "    <style>\n",
       "        .wandb-row {\n",
       "            display: flex;\n",
       "            flex-direction: row;\n",
       "            flex-wrap: wrap;\n",
       "            justify-content: flex-start;\n",
       "            width: 100%;\n",
       "        }\n",
       "        .wandb-col {\n",
       "            display: flex;\n",
       "            flex-direction: column;\n",
       "            flex-basis: 100%;\n",
       "            flex: 1;\n",
       "            padding: 10px;\n",
       "        }\n",
       "    </style>\n",
       "<div class=\"wandb-row\"><div class=\"wandb-col\"><h3>Run history:</h3><br/><table class=\"wandb\"><tr><td>eval/accuracy</td><td>▁▆▆▆█▇▆▆▇▇</td></tr><tr><td>eval/f1</td><td>▁▇▆▆█▇▆▆▇▇</td></tr><tr><td>eval/loss</td><td>▂▁▂▄▄▅▇█▇█</td></tr><tr><td>eval/roc_auc</td><td>▁▇▆▆█▇▆▆▇▇</td></tr><tr><td>eval/runtime</td><td>▂▂▁▃█▆▇▂▁▂</td></tr><tr><td>eval/samples_per_second</td><td>▆▇█▆▁▂▁▇█▇</td></tr><tr><td>eval/steps_per_second</td><td>▆▇█▆▁▂▁▇█▇</td></tr><tr><td>train/epoch</td><td>▁▁▂▂▃▃▃▄▄▄▅▅▆▆▆▇▇███</td></tr><tr><td>train/global_step</td><td>▁▁▂▂▃▃▃▄▄▄▅▅▆▆▆▇▇███</td></tr><tr><td>train/grad_norm</td><td>▁▃▁▁█▂▁▁▁</td></tr><tr><td>train/learning_rate</td><td>█▇▆▅▅▄▃▂▁</td></tr><tr><td>train/loss</td><td>█▁▁▁▁▁▁▁▁</td></tr></table><br/></div><div class=\"wandb-col\"><h3>Run summary:</h3><br/><table class=\"wandb\"><tr><td>eval/accuracy</td><td>0.85539</td></tr><tr><td>eval/f1</td><td>0.85539</td></tr><tr><td>eval/loss</td><td>1.05141</td></tr><tr><td>eval/roc_auc</td><td>0.85539</td></tr><tr><td>eval/runtime</td><td>23.9285</td></tr><tr><td>eval/samples_per_second</td><td>17.051</td></tr><tr><td>eval/steps_per_second</td><td>2.131</td></tr><tr><td>total_flos</td><td>575037137203200.0</td></tr><tr><td>train/epoch</td><td>10</td></tr><tr><td>train/global_step</td><td>4590</td></tr><tr><td>train/grad_norm</td><td>0.02743</td></tr><tr><td>train/learning_rate</td><td>0.0</td></tr><tr><td>train/loss</td><td>0.056</td></tr><tr><td>train_loss</td><td>2408.98854</td></tr><tr><td>train_runtime</td><td>8440.8931</td></tr><tr><td>train_samples_per_second</td><td>4.346</td></tr><tr><td>train_steps_per_second</td><td>0.544</td></tr></table><br/></div></div>"
      ],
      "text/plain": [
       "<IPython.core.display.HTML object>"
      ]
     },
     "metadata": {},
     "output_type": "display_data"
    },
    {
     "data": {
      "text/html": [
       " View run <strong style=\"color:#cdcd00\">google/mobilebert-uncased-cls-12.11.2024-20.09.18</strong> at: <a href='https://wandb.ai/rubikpf2002-mipt/nlp-classifier/runs/n10ml2yq' target=\"_blank\">https://wandb.ai/rubikpf2002-mipt/nlp-classifier/runs/n10ml2yq</a><br/> View project at: <a href='https://wandb.ai/rubikpf2002-mipt/nlp-classifier' target=\"_blank\">https://wandb.ai/rubikpf2002-mipt/nlp-classifier</a><br/>Synced 5 W&B file(s), 0 media file(s), 2 artifact file(s) and 0 other file(s)"
      ],
      "text/plain": [
       "<IPython.core.display.HTML object>"
      ]
     },
     "metadata": {},
     "output_type": "display_data"
    },
    {
     "data": {
      "text/html": [
       "Find logs at: <code>./wandb/run-20241112_200919-n10ml2yq/logs</code>"
      ],
      "text/plain": [
       "<IPython.core.display.HTML object>"
      ]
     },
     "metadata": {},
     "output_type": "display_data"
    }
   ],
   "source": [
    "# Закрыть сессию WandB\n",
    "wandb.finish()"
   ]
  },
  {
   "cell_type": "code",
   "execution_count": null,
   "metadata": {
    "id": "RivrdiL4thS1"
   },
   "outputs": [],
   "source": [
    "# model.save_pretrained(\"./seved_model\")"
   ]
  },
  {
   "cell_type": "code",
   "execution_count": null,
   "metadata": {
    "id": "xlsnfRxothS1"
   },
   "outputs": [],
   "source": [
    "# text = dataset['test'][18]['sentence1'] + ' ' + dataset['test'][18]['sentence2']\n",
    "# true_label = [dataset['test'][18]['label_0'], dataset['test'][18]['label_1']]\n",
    "# if true_label[0]:\n",
    "#   true_label = 'label_0'\n",
    "# else:\n",
    "#   true_label = 'label_1'\n",
    "# print(text)\n",
    "# encoding = tokenizer(text, return_tensors=\"pt\")\n",
    "# encoding = {k: v.to(trainer.model.device) for k,v in encoding.items()}\n",
    "# print(encoding)\n",
    "# outputs = trainer.model(**encoding)\n",
    "# logits = outputs.logits\n",
    "# print(logits.shape)\n",
    "# sigmoid = torch.nn.Sigmoid()\n",
    "# probs = sigmoid(logits.squeeze().cpu())\n",
    "# print(probs)\n",
    "# predictions = np.zeros(probs.shape)\n",
    "# predictions[np.where(probs >= 0.5)] = 1\n",
    "\n",
    "# # turn predicted id's into actual label names\n",
    "# predicted_labels = [id2label[idx] for idx, label in enumerate(predictions) if label == 1.0]\n",
    "# print(predicted_labels)\n",
    "# print(true_label)"
   ]
  },
  {
   "cell_type": "code",
   "execution_count": 21,
   "metadata": {
    "id": "sYs-F8HD7aR9"
   },
   "outputs": [
    {
     "data": {
      "text/plain": [
       "MobileBertForSequenceClassification(\n",
       "  (mobilebert): MobileBertModel(\n",
       "    (embeddings): MobileBertEmbeddings(\n",
       "      (word_embeddings): Embedding(30522, 128, padding_idx=0)\n",
       "      (position_embeddings): Embedding(512, 512)\n",
       "      (token_type_embeddings): Embedding(2, 512)\n",
       "      (embedding_transformation): Linear(in_features=384, out_features=512, bias=True)\n",
       "      (LayerNorm): NoNorm()\n",
       "      (dropout): Dropout(p=0.0, inplace=False)\n",
       "    )\n",
       "    (encoder): MobileBertEncoder(\n",
       "      (layer): ModuleList(\n",
       "        (0-23): 24 x MobileBertLayer(\n",
       "          (attention): MobileBertAttention(\n",
       "            (self): MobileBertSelfAttention(\n",
       "              (query): Linear(in_features=128, out_features=128, bias=True)\n",
       "              (key): Linear(in_features=128, out_features=128, bias=True)\n",
       "              (value): Linear(in_features=512, out_features=128, bias=True)\n",
       "              (dropout): Dropout(p=0.1, inplace=False)\n",
       "            )\n",
       "            (output): MobileBertSelfOutput(\n",
       "              (dense): Linear(in_features=128, out_features=128, bias=True)\n",
       "              (LayerNorm): NoNorm()\n",
       "            )\n",
       "          )\n",
       "          (intermediate): MobileBertIntermediate(\n",
       "            (dense): Linear(in_features=128, out_features=512, bias=True)\n",
       "            (intermediate_act_fn): ReLU()\n",
       "          )\n",
       "          (output): MobileBertOutput(\n",
       "            (dense): Linear(in_features=512, out_features=128, bias=True)\n",
       "            (LayerNorm): NoNorm()\n",
       "            (bottleneck): OutputBottleneck(\n",
       "              (dense): Linear(in_features=128, out_features=512, bias=True)\n",
       "              (LayerNorm): NoNorm()\n",
       "              (dropout): Dropout(p=0.0, inplace=False)\n",
       "            )\n",
       "          )\n",
       "          (bottleneck): Bottleneck(\n",
       "            (input): BottleneckLayer(\n",
       "              (dense): Linear(in_features=512, out_features=128, bias=True)\n",
       "              (LayerNorm): NoNorm()\n",
       "            )\n",
       "            (attention): BottleneckLayer(\n",
       "              (dense): Linear(in_features=512, out_features=128, bias=True)\n",
       "              (LayerNorm): NoNorm()\n",
       "            )\n",
       "          )\n",
       "          (ffn): ModuleList(\n",
       "            (0-2): 3 x FFNLayer(\n",
       "              (intermediate): MobileBertIntermediate(\n",
       "                (dense): Linear(in_features=128, out_features=512, bias=True)\n",
       "                (intermediate_act_fn): ReLU()\n",
       "              )\n",
       "              (output): FFNOutput(\n",
       "                (dense): Linear(in_features=512, out_features=128, bias=True)\n",
       "                (LayerNorm): NoNorm()\n",
       "              )\n",
       "            )\n",
       "          )\n",
       "        )\n",
       "      )\n",
       "    )\n",
       "    (pooler): MobileBertPooler()\n",
       "  )\n",
       "  (dropout): Dropout(p=0.0, inplace=False)\n",
       "  (classifier): Linear(in_features=512, out_features=2, bias=True)\n",
       ")"
      ]
     },
     "execution_count": 21,
     "metadata": {},
     "output_type": "execute_result"
    }
   ],
   "source": [
    "# устанавливаем модель в inference режим\n",
    "model.eval()"
   ]
  },
  {
   "cell_type": "code",
   "execution_count": 22,
   "metadata": {
    "id": "_URP_2L79AOM"
   },
   "outputs": [],
   "source": [
    "test_dataset = encoded_dataset['test'] # заметим, что здесь test_dataset уже подготовлен к инференсу см. выше"
   ]
  },
  {
   "cell_type": "code",
   "execution_count": 23,
   "metadata": {
    "id": "dDyic_ge9YKj"
   },
   "outputs": [],
   "source": [
    "from torch.utils.data import DataLoader\n",
    "\n",
    "test_dataloader = DataLoader(test_dataset, batch_size=16)"
   ]
  },
  {
   "cell_type": "code",
   "execution_count": null,
   "metadata": {
    "id": "Wp9DfZaB94Jb"
   },
   "outputs": [],
   "source": [
    "for batch in test_dataloader:\n",
    "    print(batch)\n",
    "    break"
   ]
  },
  {
   "cell_type": "code",
   "execution_count": 24,
   "metadata": {
    "id": "9vGp3sQj-d_7"
   },
   "outputs": [],
   "source": [
    "from sklearn.metrics import classification_report"
   ]
  },
  {
   "cell_type": "code",
   "execution_count": 25,
   "metadata": {
    "id": "JsoszbrO9lm-"
   },
   "outputs": [
    {
     "name": "stdout",
     "output_type": "stream",
     "text": [
      "Accuracy: 0.8452173913043478\n",
      "{'f1': 0.8452173913043478, 'roc_auc': 0.8231017880253286, 'accuracy': 0.8452173913043478}\n",
      "              precision    recall  f1-score   support\n",
      "\n",
      "         0.0       0.78      0.76      0.77       578\n",
      "         1.0       0.88      0.89      0.88      1147\n",
      "\n",
      "    accuracy                           0.85      1725\n",
      "   macro avg       0.83      0.82      0.83      1725\n",
      "weighted avg       0.84      0.85      0.84      1725\n",
      "\n"
     ]
    }
   ],
   "source": [
    "predictions = []\n",
    "true_labels = []\n",
    "\n",
    "for batch in test_dataloader:\n",
    "  # Move batch data to the same device as the model\n",
    "  batch = {k: v.to(model.device) for k, v in batch.items()}\n",
    "\n",
    "  with torch.no_grad():\n",
    "    outputs = model(**batch)\n",
    "\n",
    "  logits = outputs.logits\n",
    "  preds = np.argmax(logits.cpu().numpy(), axis=1)\n",
    "  predictions.extend(preds)\n",
    "\n",
    "  true_batch_labels = batch['labels'].cpu().numpy()\n",
    "  true_labels.extend(true_batch_labels.T[1])  # Добавляем истинные метки для оценки\n",
    "\n",
    "# 5. Оценка качества\n",
    "f1_micro_average = f1_score(y_true=true_labels, y_pred=predictions, average='micro')\n",
    "roc_auc = roc_auc_score(true_labels, predictions, average = 'micro')\n",
    "accuracy = accuracy_score(true_labels, predictions)\n",
    "# return as dictionary\n",
    "metrics = {'f1': f1_micro_average,\n",
    "            'roc_auc': roc_auc,\n",
    "            'accuracy': accuracy}\n",
    "report = classification_report(true_labels, predictions)\n",
    "\n",
    "print(f\"Accuracy: {accuracy}\")\n",
    "print(metrics)\n",
    "print(report)"
   ]
  }
 ],
 "metadata": {
  "accelerator": "GPU",
  "colab": {
   "gpuType": "T4",
   "provenance": []
  },
  "kernelspec": {
   "display_name": ".venv",
   "language": "python",
   "name": "python3"
  },
  "language_info": {
   "codemirror_mode": {
    "name": "ipython",
    "version": 3
   },
   "file_extension": ".py",
   "mimetype": "text/x-python",
   "name": "python",
   "nbconvert_exporter": "python",
   "pygments_lexer": "ipython3",
   "version": "3.10.12"
  }
 },
 "nbformat": 4,
 "nbformat_minor": 0
}
