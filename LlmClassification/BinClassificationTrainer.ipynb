{
 "cells": [
  {
   "cell_type": "code",
   "execution_count": 1,
   "metadata": {
    "id": "C69faBXrthSo"
   },
   "outputs": [],
   "source": [
    "# if u run this notebook in collab, install this dependences\n",
    "\n",
    "# !pip install transformers\n",
    "# !pip install datasets\n",
    "# !pip install wandb"
   ]
  },
  {
   "cell_type": "code",
   "execution_count": 2,
   "metadata": {
    "id": "q7toa_OqthSq"
   },
   "outputs": [
    {
     "name": "stderr",
     "output_type": "stream",
     "text": [
      "/home/pavel/Projects/Science/.venv/lib/python3.10/site-packages/tqdm/auto.py:21: TqdmWarning: IProgress not found. Please update jupyter and ipywidgets. See https://ipywidgets.readthedocs.io/en/stable/user_install.html\n",
      "  from .autonotebook import tqdm as notebook_tqdm\n"
     ]
    }
   ],
   "source": [
    "from transformers import AutoTokenizer, AutoModelForSequenceClassification, TrainingArguments, Trainer, DataCollatorWithPadding\n",
    "from sklearn.metrics import f1_score, roc_auc_score, accuracy_score\n",
    "from transformers import EvalPrediction\n",
    "import torch\n",
    "import numpy as np\n",
    "from datasets import Dataset, load_dataset\n",
    "import wandb\n",
    "from datetime import datetime\n",
    "import pandas as pd\n",
    "import datasets"
   ]
  },
  {
   "cell_type": "code",
   "execution_count": 3,
   "metadata": {
    "id": "1m7WgQg_thSr"
   },
   "outputs": [],
   "source": [
    "dataset = load_dataset(\"glue\", \"mrpc\")"
   ]
  },
  {
   "cell_type": "code",
   "execution_count": 4,
   "metadata": {
    "id": "MfEaoj53vI1k"
   },
   "outputs": [],
   "source": [
    "def preproces_dataset(raw_dataset):\n",
    "  df = pd.DataFrame(raw_dataset)\n",
    "  one_hot_encoded = pd.get_dummies(df['label'], prefix='label')\n",
    "  df = pd.concat([df, one_hot_encoded], axis=1)\n",
    "  df.drop('label', axis=1, inplace=True)\n",
    "  df.drop('idx', axis=1, inplace=True)\n",
    "  new_dataset = Dataset.from_pandas(df)\n",
    "  return new_dataset\n",
    "\n",
    "def preproces_dict_dataset(raw_dataset):\n",
    "  train_dataset = raw_dataset['train']\n",
    "  validation_dataset = raw_dataset['validation']\n",
    "  test_dataset = raw_dataset['test']\n",
    "\n",
    "  train_dataset = preproces_dataset(train_dataset)\n",
    "  validation_dataset = preproces_dataset(validation_dataset)\n",
    "  test_dataset = preproces_dataset(test_dataset)\n",
    "\n",
    "  dataset = datasets.dataset_dict.DatasetDict({\n",
    "    'train': train_dataset,\n",
    "    'validation': validation_dataset,\n",
    "    'test': test_dataset\n",
    "  })\n",
    "  return dataset\n"
   ]
  },
  {
   "cell_type": "code",
   "execution_count": 5,
   "metadata": {
    "id": "NCxn4IaQw7lX"
   },
   "outputs": [],
   "source": [
    "dataset = preproces_dict_dataset(dataset)"
   ]
  },
  {
   "cell_type": "code",
   "execution_count": 6,
   "metadata": {
    "id": "2Swu6Wz2thSs"
   },
   "outputs": [],
   "source": [
    "labels = ['label_0', 'label_1']\n",
    "id2label = {idx:label for idx, label in enumerate(labels)}\n",
    "label2id = {label:idx for idx, label in enumerate(labels)}"
   ]
  },
  {
   "cell_type": "code",
   "execution_count": 7,
   "metadata": {
    "id": "tf5IBz3t9WoI"
   },
   "outputs": [],
   "source": [
    "MODEL_NAME = \"vinai/bertweet-base\""
   ]
  },
  {
   "cell_type": "code",
   "execution_count": 8,
   "metadata": {
    "id": "R3GaQrmLthSt"
   },
   "outputs": [],
   "source": [
    "tokenizer = AutoTokenizer.from_pretrained(MODEL_NAME)"
   ]
  },
  {
   "cell_type": "code",
   "execution_count": 9,
   "metadata": {
    "id": "9JLBLL2m9WoJ"
   },
   "outputs": [
    {
     "name": "stderr",
     "output_type": "stream",
     "text": [
      "Some weights of RobertaForSequenceClassification were not initialized from the model checkpoint at vinai/bertweet-base and are newly initialized: ['classifier.dense.bias', 'classifier.dense.weight', 'classifier.out_proj.bias', 'classifier.out_proj.weight']\n",
      "You should probably TRAIN this model on a down-stream task to be able to use it for predictions and inference.\n"
     ]
    }
   ],
   "source": [
    "model = AutoModelForSequenceClassification.from_pretrained(MODEL_NAME,\n",
    "                                                           problem_type=\"multi_label_classification\",\n",
    "                                                           num_labels=len(labels),\n",
    "                                                           id2label=id2label,\n",
    "                                                           label2id=label2id)"
   ]
  },
  {
   "cell_type": "code",
   "execution_count": 10,
   "metadata": {
    "id": "Fo19DDLg9WoK"
   },
   "outputs": [],
   "source": [
    "if tokenizer.pad_token is None:\n",
    "    tokenizer.add_special_tokens({'pad_token': '[PAD]'})\n",
    "    model.resize_token_embeddings(len(tokenizer))\n",
    "\n",
    "if model.config.pad_token_id == None:\n",
    "    model.config.pad_token_id = model.config.eos_token_id\n",
    "    model.config.pad_token = tokenizer.pad_token"
   ]
  },
  {
   "cell_type": "code",
   "execution_count": 11,
   "metadata": {
    "id": "iHcqTuvl9vk-"
   },
   "outputs": [],
   "source": [
    "# # let's explore internal structure of model.config\n",
    "# print(model.config)"
   ]
  },
  {
   "cell_type": "code",
   "execution_count": 12,
   "metadata": {
    "id": "XxhWy5dZthSt"
   },
   "outputs": [],
   "source": [
    "def preprocess_data(examples):\n",
    "  # take a batch of texts\n",
    "  text = [examples[\"sentence1\"], examples[\"sentence2\"]]\n",
    "  # encode them\n",
    "  encoding = tokenizer(*text, padding=\"max_length\", truncation=True, max_length=128)\n",
    "  n_samples, sample_len = np.shape(np.array(encoding['input_ids']))\n",
    "  # add labels\n",
    "  labels_batch = {k: examples[k] for k in examples.keys() if k in labels}\n",
    "  # create numpy array of shape (batch_size, num_labels)\n",
    "  labels_matrix = np.zeros((n_samples, len(labels)))\n",
    "  # fill numpy array\n",
    "  for idx, label in enumerate(labels):\n",
    "    labels_matrix[:, idx] = labels_batch[label]\n",
    "\n",
    "  encoding[\"labels\"] = labels_matrix.tolist()\n",
    "\n",
    "  return encoding"
   ]
  },
  {
   "cell_type": "code",
   "execution_count": 13,
   "metadata": {
    "id": "tgxujlRvthSu"
   },
   "outputs": [
    {
     "name": "stderr",
     "output_type": "stream",
     "text": [
      "Map: 100%|██████████| 3668/3668 [00:01<00:00, 2950.73 examples/s]\n",
      "Map: 100%|██████████| 408/408 [00:00<00:00, 2223.18 examples/s]\n",
      "Map: 100%|██████████| 1725/1725 [00:00<00:00, 2757.81 examples/s]\n"
     ]
    }
   ],
   "source": [
    "encoded_dataset = dataset.map(preprocess_data, batched=True, remove_columns=dataset['train'].column_names)"
   ]
  },
  {
   "cell_type": "code",
   "execution_count": 14,
   "metadata": {
    "id": "U-_FonEIthSv"
   },
   "outputs": [],
   "source": [
    "# # Alternative way to preprocess data\n",
    "# def tokenize_function(example):\n",
    "#     return tokenizer(example[\"sentence1\"], example[\"sentence2\"], truncation=True)\n",
    "\n",
    "# # here we use datacollator, that means, that batching and paddig will be applied to the dataset during the training\n",
    "# tokenized_datasets = train_dataset.map(tokenize_function, batched=True)\n",
    "# data_collator = DataCollatorWithPadding(tokenizer=tokenizer, padding=True)"
   ]
  },
  {
   "cell_type": "code",
   "execution_count": 15,
   "metadata": {
    "id": "fabb8QjfthSw"
   },
   "outputs": [
    {
     "name": "stdout",
     "output_type": "stream",
     "text": [
      "dict_keys(['input_ids', 'token_type_ids', 'attention_mask', 'labels'])\n",
      "<s> Amrozi accused his brother, whom he called \" the witness \", of deliberately distorting his evidence. </s> </s> Referring to him as only \" the witness \", Amrozi accused his brother of deliberately distorting his evidence. </s> <pad> <pad> <pad> <pad> <pad> <pad> <pad> <pad> <pad> <pad> <pad> <pad> <pad> <pad> <pad> <pad> <pad> <pad> <pad> <pad> <pad> <pad> <pad> <pad> <pad> <pad> <pad> <pad> <pad> <pad> <pad> <pad> <pad> <pad> <pad> <pad> <pad> <pad> <pad> <pad> <pad> <pad> <pad> <pad> <pad> <pad> <pad> <pad> <pad> <pad> <pad> <pad> <pad> <pad> <pad> <pad> <pad> <pad> <pad> <pad> <pad> <pad> <pad> <pad> <pad> <pad> <pad> <pad> <pad> <pad> <pad> <pad> <pad> <pad> <pad> <pad> <pad> <pad>\n",
      "[0.0, 1.0]\n",
      "['label_1']\n"
     ]
    }
   ],
   "source": [
    "example = encoded_dataset['train'][0]\n",
    "print(example.keys())\n",
    "print(tokenizer.decode(example['input_ids']))\n",
    "print(example['labels'])\n",
    "print([id2label[idx] for idx, label in enumerate(example['labels']) if label == 1.0])"
   ]
  },
  {
   "cell_type": "code",
   "execution_count": 16,
   "metadata": {
    "id": "0yeS5s7xthSw"
   },
   "outputs": [],
   "source": [
    "encoded_dataset.set_format(\"torch\")"
   ]
  },
  {
   "cell_type": "code",
   "execution_count": 17,
   "metadata": {
    "id": "r1dASHBCyyaQ"
   },
   "outputs": [
    {
     "data": {
      "text/plain": [
       "torch.Tensor"
      ]
     },
     "execution_count": 17,
     "metadata": {},
     "output_type": "execute_result"
    }
   ],
   "source": [
    "type(encoded_dataset['train']['input_ids'])"
   ]
  },
  {
   "cell_type": "code",
   "execution_count": 18,
   "metadata": {
    "id": "9NSVUJaAthSx"
   },
   "outputs": [],
   "source": [
    "batch_size = 8\n",
    "metric_name = \"f1\"\n",
    "\n",
    "args = TrainingArguments(\n",
    "    f\"{MODEL_NAME}\",\n",
    "    evaluation_strategy = \"epoch\",\n",
    "    save_strategy = \"epoch\",\n",
    "    learning_rate=2e-5,\n",
    "    per_device_train_batch_size=batch_size,\n",
    "    per_device_eval_batch_size=batch_size,\n",
    "    num_train_epochs=10,\n",
    "    weight_decay=0.01,\n",
    "    load_best_model_at_end=True,\n",
    "    metric_for_best_model=metric_name\n",
    ")"
   ]
  },
  {
   "cell_type": "code",
   "execution_count": 19,
   "metadata": {
    "id": "jnCz62BzthSy"
   },
   "outputs": [],
   "source": [
    "# source: https://jesusleal.io/2021/04/21/Longformer-multilabel-classification/\n",
    "def multi_label_metrics(predictions, labels, threshold=0.5):\n",
    "    # first, apply sigmoid on predictions which are of shape (batch_size, num_labels)\n",
    "    sigmoid = torch.nn.Sigmoid()\n",
    "    probs = sigmoid(torch.Tensor(predictions))\n",
    "    # next, use threshold to turn them into integer predictions\n",
    "    y_pred = np.zeros(probs.shape)\n",
    "    y_pred[np.where(probs >= threshold)] = 1\n",
    "    # finally, compute metrics\n",
    "    y_true = labels\n",
    "    f1_micro_average = f1_score(y_true=y_true, y_pred=y_pred, average='micro')\n",
    "    roc_auc = roc_auc_score(y_true, y_pred, average = 'micro')\n",
    "    accuracy = accuracy_score(y_true, y_pred)\n",
    "    # return as dictionary\n",
    "    metrics = {'f1': f1_micro_average,\n",
    "               'roc_auc': roc_auc,\n",
    "               'accuracy': accuracy}\n",
    "    return metrics\n",
    "\n",
    "def compute_metrics(p: EvalPrediction):\n",
    "    preds = p.predictions[0] if isinstance(p.predictions,\n",
    "            tuple) else p.predictions\n",
    "    result = multi_label_metrics(\n",
    "        predictions=preds,\n",
    "        labels=p.label_ids)\n",
    "    return result"
   ]
  },
  {
   "cell_type": "markdown",
   "metadata": {
    "id": "4MBsMrahthSy"
   },
   "source": [
    "TODO: try to use raw model to predict some label"
   ]
  },
  {
   "cell_type": "code",
   "execution_count": 20,
   "metadata": {
    "id": "EguU7CtFthSz"
   },
   "outputs": [],
   "source": [
    "trainer = Trainer(\n",
    "    model,\n",
    "    args,\n",
    "    train_dataset=encoded_dataset[\"train\"],\n",
    "    eval_dataset=encoded_dataset[\"validation\"],\n",
    "    tokenizer=tokenizer,\n",
    "    compute_metrics=compute_metrics\n",
    ")"
   ]
  },
  {
   "cell_type": "code",
   "execution_count": 21,
   "metadata": {
    "id": "xnhMeUR6thSz"
   },
   "outputs": [
    {
     "name": "stderr",
     "output_type": "stream",
     "text": [
      "\u001b[34m\u001b[1mwandb\u001b[0m: Using wandb-core as the SDK backend.  Please refer to https://wandb.me/wandb-core for more information.\n",
      "\u001b[34m\u001b[1mwandb\u001b[0m: Currently logged in as: \u001b[33mrubikpf2002\u001b[0m (\u001b[33mrubikpf2002-mipt\u001b[0m). Use \u001b[1m`wandb login --relogin`\u001b[0m to force relogin\n"
     ]
    },
    {
     "data": {
      "text/html": [
       "Tracking run with wandb version 0.18.6"
      ],
      "text/plain": [
       "<IPython.core.display.HTML object>"
      ]
     },
     "metadata": {},
     "output_type": "display_data"
    },
    {
     "data": {
      "text/html": [
       "Run data is saved locally in <code>/home/pavel/Projects/Science/LlmClassification/wandb/run-20241113_103835-xeo4kdvp</code>"
      ],
      "text/plain": [
       "<IPython.core.display.HTML object>"
      ]
     },
     "metadata": {},
     "output_type": "display_data"
    },
    {
     "data": {
      "text/html": [
       "Syncing run <strong><a href='https://wandb.ai/rubikpf2002-mipt/nlp-classifier/runs/xeo4kdvp' target=\"_blank\">vinai/bertweet-base-cls-13.11.2024-10.38.35</a></strong> to <a href='https://wandb.ai/rubikpf2002-mipt/nlp-classifier' target=\"_blank\">Weights & Biases</a> (<a href='https://wandb.me/developer-guide' target=\"_blank\">docs</a>)<br/>"
      ],
      "text/plain": [
       "<IPython.core.display.HTML object>"
      ]
     },
     "metadata": {},
     "output_type": "display_data"
    },
    {
     "data": {
      "text/html": [
       " View project at <a href='https://wandb.ai/rubikpf2002-mipt/nlp-classifier' target=\"_blank\">https://wandb.ai/rubikpf2002-mipt/nlp-classifier</a>"
      ],
      "text/plain": [
       "<IPython.core.display.HTML object>"
      ]
     },
     "metadata": {},
     "output_type": "display_data"
    },
    {
     "data": {
      "text/html": [
       " View run at <a href='https://wandb.ai/rubikpf2002-mipt/nlp-classifier/runs/xeo4kdvp' target=\"_blank\">https://wandb.ai/rubikpf2002-mipt/nlp-classifier/runs/xeo4kdvp</a>"
      ],
      "text/plain": [
       "<IPython.core.display.HTML object>"
      ]
     },
     "metadata": {},
     "output_type": "display_data"
    },
    {
     "data": {
      "text/html": [
       "<button onClick=\"this.nextSibling.style.display='block';this.style.display='none';\">Display W&B run</button><iframe src='https://wandb.ai/rubikpf2002-mipt/nlp-classifier/runs/xeo4kdvp?jupyter=true' style='border:none;width:100%;height:420px;display:none;'></iframe>"
      ],
      "text/plain": [
       "<wandb.sdk.wandb_run.Run at 0x7f0af06bac50>"
      ]
     },
     "execution_count": 21,
     "metadata": {},
     "output_type": "execute_result"
    }
   ],
   "source": [
    "date = datetime.strftime(datetime.now(), \"%d.%m.%Y-%H.%M.%S\")\n",
    "wandb.init(\n",
    "    # set the wandb project where this run will be logged\n",
    "    project=\"nlp-classifier\",\n",
    "    name=f\"{MODEL_NAME}-cls-{date}\",\n",
    "\n",
    "    # # track hyperparameters and run metadata\n",
    "    # config={\n",
    "    # \"learning_rate\": 0.02,\n",
    "    # \"architecture\": \"CNN\",\n",
    "    # \"dataset\": \"CIFAR-100\",\n",
    "    # \"epochs\": 10,\n",
    "    # }\n",
    ")"
   ]
  },
  {
   "cell_type": "code",
   "execution_count": 22,
   "metadata": {
    "id": "sAEgF-O7thS0"
   },
   "outputs": [
    {
     "name": "stderr",
     "output_type": "stream",
     "text": [
      "                                                    \n",
      " 10%|█         | 459/4590 [14:03<1:45:48,  1.54s/it]"
     ]
    },
    {
     "name": "stdout",
     "output_type": "stream",
     "text": [
      "{'eval_loss': 0.5399301052093506, 'eval_f1': 0.7533742331288343, 'eval_roc_auc': 0.7536764705882353, 'eval_accuracy': 0.75, 'eval_runtime': 31.9182, 'eval_samples_per_second': 12.783, 'eval_steps_per_second': 1.598, 'epoch': 1.0}\n"
     ]
    },
    {
     "name": "stderr",
     "output_type": "stream",
     "text": [
      " 11%|█         | 500/4590 [15:18<2:00:50,  1.77s/it] "
     ]
    },
    {
     "name": "stdout",
     "output_type": "stream",
     "text": [
      "{'loss': 0.5898, 'grad_norm': 2.5987095832824707, 'learning_rate': 1.7821350762527233e-05, 'epoch': 1.09}\n"
     ]
    },
    {
     "name": "stderr",
     "output_type": "stream",
     "text": [
      "                                                    \n",
      " 20%|██        | 918/4590 [28:10<1:34:17,  1.54s/it]"
     ]
    },
    {
     "name": "stdout",
     "output_type": "stream",
     "text": [
      "{'eval_loss': 0.38809046149253845, 'eval_f1': 0.8466257668711656, 'eval_roc_auc': 0.8468137254901961, 'eval_accuracy': 0.8455882352941176, 'eval_runtime': 31.9558, 'eval_samples_per_second': 12.768, 'eval_steps_per_second': 1.596, 'epoch': 2.0}\n"
     ]
    },
    {
     "name": "stderr",
     "output_type": "stream",
     "text": [
      " 22%|██▏       | 1000/4590 [30:38<1:46:08,  1.77s/it]"
     ]
    },
    {
     "name": "stdout",
     "output_type": "stream",
     "text": [
      "{'loss': 0.4445, 'grad_norm': 1.5992684364318848, 'learning_rate': 1.5642701525054468e-05, 'epoch': 2.18}\n"
     ]
    },
    {
     "name": "stderr",
     "output_type": "stream",
     "text": [
      "                                                     \n",
      " 30%|███       | 1377/4590 [42:17<1:22:27,  1.54s/it]"
     ]
    },
    {
     "name": "stdout",
     "output_type": "stream",
     "text": [
      "{'eval_loss': 0.4411332607269287, 'eval_f1': 0.8284313725490197, 'eval_roc_auc': 0.8284313725490197, 'eval_accuracy': 0.8284313725490197, 'eval_runtime': 31.9272, 'eval_samples_per_second': 12.779, 'eval_steps_per_second': 1.597, 'epoch': 3.0}\n"
     ]
    },
    {
     "name": "stderr",
     "output_type": "stream",
     "text": [
      " 33%|███▎      | 1500/4590 [45:57<1:31:00,  1.77s/it] "
     ]
    },
    {
     "name": "stdout",
     "output_type": "stream",
     "text": [
      "{'loss': 0.332, 'grad_norm': 14.810187339782715, 'learning_rate': 1.3464052287581701e-05, 'epoch': 3.27}\n"
     ]
    },
    {
     "name": "stderr",
     "output_type": "stream",
     "text": [
      "                                                     \n",
      " 40%|████      | 1836/4590 [56:24<1:10:42,  1.54s/it]"
     ]
    },
    {
     "name": "stdout",
     "output_type": "stream",
     "text": [
      "{'eval_loss': 0.457865446805954, 'eval_f1': 0.8627450980392157, 'eval_roc_auc': 0.8627450980392157, 'eval_accuracy': 0.8627450980392157, 'eval_runtime': 31.968, 'eval_samples_per_second': 12.763, 'eval_steps_per_second': 1.595, 'epoch': 4.0}\n"
     ]
    },
    {
     "name": "stderr",
     "output_type": "stream",
     "text": [
      " 44%|████▎     | 2000/4590 [1:01:17<1:16:35,  1.77s/it]"
     ]
    },
    {
     "name": "stdout",
     "output_type": "stream",
     "text": [
      "{'loss': 0.2407, 'grad_norm': 2.648258924484253, 'learning_rate': 1.1285403050108935e-05, 'epoch': 4.36}\n"
     ]
    },
    {
     "name": "stderr",
     "output_type": "stream",
     "text": [
      "                                                       \n",
      " 50%|█████     | 2295/4590 [1:10:31<58:52,  1.54s/it]"
     ]
    },
    {
     "name": "stdout",
     "output_type": "stream",
     "text": [
      "{'eval_loss': 0.5074276924133301, 'eval_f1': 0.8553921568627451, 'eval_roc_auc': 0.8553921568627451, 'eval_accuracy': 0.8553921568627451, 'eval_runtime': 31.921, 'eval_samples_per_second': 12.782, 'eval_steps_per_second': 1.598, 'epoch': 5.0}\n"
     ]
    },
    {
     "name": "stderr",
     "output_type": "stream",
     "text": [
      " 54%|█████▍    | 2500/4590 [1:16:37<1:01:45,  1.77s/it]"
     ]
    },
    {
     "name": "stdout",
     "output_type": "stream",
     "text": [
      "{'loss': 0.148, 'grad_norm': 0.1845180243253708, 'learning_rate': 9.106753812636166e-06, 'epoch': 5.45}\n"
     ]
    },
    {
     "name": "stderr",
     "output_type": "stream",
     "text": [
      "                                                       \n",
      " 60%|██████    | 2754/4590 [1:24:38<47:06,  1.54s/it]"
     ]
    },
    {
     "name": "stdout",
     "output_type": "stream",
     "text": [
      "{'eval_loss': 0.5389404296875, 'eval_f1': 0.8725490196078431, 'eval_roc_auc': 0.8725490196078431, 'eval_accuracy': 0.8725490196078431, 'eval_runtime': 31.9702, 'eval_samples_per_second': 12.762, 'eval_steps_per_second': 1.595, 'epoch': 6.0}\n"
     ]
    },
    {
     "name": "stderr",
     "output_type": "stream",
     "text": [
      " 65%|██████▌   | 3000/4590 [1:31:56<47:00,  1.77s/it]  "
     ]
    },
    {
     "name": "stdout",
     "output_type": "stream",
     "text": [
      "{'loss': 0.1141, 'grad_norm': 0.06354963779449463, 'learning_rate': 6.928104575163399e-06, 'epoch': 6.54}\n"
     ]
    },
    {
     "name": "stderr",
     "output_type": "stream",
     "text": [
      "                                                     \n",
      " 70%|███████   | 3213/4590 [1:38:45<35:25,  1.54s/it]"
     ]
    },
    {
     "name": "stdout",
     "output_type": "stream",
     "text": [
      "{'eval_loss': 0.6860272288322449, 'eval_f1': 0.8602941176470589, 'eval_roc_auc': 0.8602941176470589, 'eval_accuracy': 0.8602941176470589, 'eval_runtime': 31.9553, 'eval_samples_per_second': 12.768, 'eval_steps_per_second': 1.596, 'epoch': 7.0}\n"
     ]
    },
    {
     "name": "stderr",
     "output_type": "stream",
     "text": [
      " 76%|███████▋  | 3500/4590 [1:47:16<32:12,  1.77s/it]  "
     ]
    },
    {
     "name": "stdout",
     "output_type": "stream",
     "text": [
      "{'loss': 0.0819, 'grad_norm': 0.19624796509742737, 'learning_rate': 4.749455337690632e-06, 'epoch': 7.63}\n"
     ]
    },
    {
     "name": "stderr",
     "output_type": "stream",
     "text": [
      "                                                     \n",
      " 80%|████████  | 3672/4590 [1:52:51<23:32,  1.54s/it]"
     ]
    },
    {
     "name": "stdout",
     "output_type": "stream",
     "text": [
      "{'eval_loss': 0.7483989000320435, 'eval_f1': 0.8553921568627451, 'eval_roc_auc': 0.8553921568627451, 'eval_accuracy': 0.8553921568627451, 'eval_runtime': 31.9205, 'eval_samples_per_second': 12.782, 'eval_steps_per_second': 1.598, 'epoch': 8.0}\n"
     ]
    },
    {
     "name": "stderr",
     "output_type": "stream",
     "text": [
      " 87%|████████▋ | 4000/4590 [2:02:35<17:27,  1.77s/it]  "
     ]
    },
    {
     "name": "stdout",
     "output_type": "stream",
     "text": [
      "{'loss': 0.0445, 'grad_norm': 0.041640013456344604, 'learning_rate': 2.570806100217865e-06, 'epoch': 8.71}\n"
     ]
    },
    {
     "name": "stderr",
     "output_type": "stream",
     "text": [
      "                                                     \n",
      " 90%|█████████ | 4131/4590 [2:06:58<11:46,  1.54s/it]"
     ]
    },
    {
     "name": "stdout",
     "output_type": "stream",
     "text": [
      "{'eval_loss': 0.7361973524093628, 'eval_f1': 0.8627450980392157, 'eval_roc_auc': 0.8627450980392157, 'eval_accuracy': 0.8627450980392157, 'eval_runtime': 31.938, 'eval_samples_per_second': 12.775, 'eval_steps_per_second': 1.597, 'epoch': 9.0}\n"
     ]
    },
    {
     "name": "stderr",
     "output_type": "stream",
     "text": [
      " 98%|█████████▊| 4500/4590 [2:17:55<02:39,  1.78s/it]  "
     ]
    },
    {
     "name": "stdout",
     "output_type": "stream",
     "text": [
      "{'loss': 0.0354, 'grad_norm': 0.030371572822332382, 'learning_rate': 3.921568627450981e-07, 'epoch': 9.8}\n"
     ]
    },
    {
     "name": "stderr",
     "output_type": "stream",
     "text": [
      "                                                     \n",
      "100%|██████████| 4590/4590 [2:21:05<00:00,  1.54s/it]"
     ]
    },
    {
     "name": "stdout",
     "output_type": "stream",
     "text": [
      "{'eval_loss': 0.758312463760376, 'eval_f1': 0.8578431372549019, 'eval_roc_auc': 0.857843137254902, 'eval_accuracy': 0.8578431372549019, 'eval_runtime': 31.9609, 'eval_samples_per_second': 12.766, 'eval_steps_per_second': 1.596, 'epoch': 10.0}\n"
     ]
    },
    {
     "name": "stderr",
     "output_type": "stream",
     "text": [
      "100%|██████████| 4590/4590 [2:21:10<00:00,  1.85s/it]"
     ]
    },
    {
     "name": "stdout",
     "output_type": "stream",
     "text": [
      "{'train_runtime': 8470.017, 'train_samples_per_second': 4.331, 'train_steps_per_second': 0.542, 'train_loss': 0.22158122885980377, 'epoch': 10.0}\n"
     ]
    },
    {
     "name": "stderr",
     "output_type": "stream",
     "text": [
      "\n"
     ]
    },
    {
     "data": {
      "text/plain": [
       "TrainOutput(global_step=4590, training_loss=0.22158122885980377, metrics={'train_runtime': 8470.017, 'train_samples_per_second': 4.331, 'train_steps_per_second': 0.542, 'total_flos': 2412728377651200.0, 'train_loss': 0.22158122885980377, 'epoch': 10.0})"
      ]
     },
     "execution_count": 22,
     "metadata": {},
     "output_type": "execute_result"
    }
   ],
   "source": [
    "trainer.train()"
   ]
  },
  {
   "cell_type": "code",
   "execution_count": 23,
   "metadata": {
    "id": "KRr81xYsthS0"
   },
   "outputs": [
    {
     "data": {
      "text/html": [
       "\n",
       "    <style>\n",
       "        .wandb-row {\n",
       "            display: flex;\n",
       "            flex-direction: row;\n",
       "            flex-wrap: wrap;\n",
       "            justify-content: flex-start;\n",
       "            width: 100%;\n",
       "        }\n",
       "        .wandb-col {\n",
       "            display: flex;\n",
       "            flex-direction: column;\n",
       "            flex-basis: 100%;\n",
       "            flex: 1;\n",
       "            padding: 10px;\n",
       "        }\n",
       "    </style>\n",
       "<div class=\"wandb-row\"><div class=\"wandb-col\"><h3>Run history:</h3><br/><table class=\"wandb\"><tr><td>eval/accuracy</td><td>▁▆▅▇▇█▇▇▇▇</td></tr><tr><td>eval/f1</td><td>▁▆▅▇▇█▇▇▇▇</td></tr><tr><td>eval/loss</td><td>▄▁▂▂▃▄▇███</td></tr><tr><td>eval/roc_auc</td><td>▁▆▅▇▇█▇▇▇▇</td></tr><tr><td>eval/runtime</td><td>▁▆▂█▁█▆▁▄▇</td></tr><tr><td>eval/samples_per_second</td><td>█▃▇▁█▁▃█▅▂</td></tr><tr><td>eval/steps_per_second</td><td>█▃▆▁█▁▃█▆▃</td></tr><tr><td>train/epoch</td><td>▁▁▂▂▃▃▃▄▄▄▅▅▆▆▆▇▇███</td></tr><tr><td>train/global_step</td><td>▁▁▂▂▃▃▃▄▄▄▅▅▆▆▆▇▇███</td></tr><tr><td>train/grad_norm</td><td>▂▂█▂▁▁▁▁▁</td></tr><tr><td>train/learning_rate</td><td>█▇▆▅▅▄▃▂▁</td></tr><tr><td>train/loss</td><td>█▆▅▄▂▂▂▁▁</td></tr></table><br/></div><div class=\"wandb-col\"><h3>Run summary:</h3><br/><table class=\"wandb\"><tr><td>eval/accuracy</td><td>0.85784</td></tr><tr><td>eval/f1</td><td>0.85784</td></tr><tr><td>eval/loss</td><td>0.75831</td></tr><tr><td>eval/roc_auc</td><td>0.85784</td></tr><tr><td>eval/runtime</td><td>31.9609</td></tr><tr><td>eval/samples_per_second</td><td>12.766</td></tr><tr><td>eval/steps_per_second</td><td>1.596</td></tr><tr><td>total_flos</td><td>2412728377651200.0</td></tr><tr><td>train/epoch</td><td>10</td></tr><tr><td>train/global_step</td><td>4590</td></tr><tr><td>train/grad_norm</td><td>0.03037</td></tr><tr><td>train/learning_rate</td><td>0.0</td></tr><tr><td>train/loss</td><td>0.0354</td></tr><tr><td>train_loss</td><td>0.22158</td></tr><tr><td>train_runtime</td><td>8470.017</td></tr><tr><td>train_samples_per_second</td><td>4.331</td></tr><tr><td>train_steps_per_second</td><td>0.542</td></tr></table><br/></div></div>"
      ],
      "text/plain": [
       "<IPython.core.display.HTML object>"
      ]
     },
     "metadata": {},
     "output_type": "display_data"
    },
    {
     "data": {
      "text/html": [
       " View run <strong style=\"color:#cdcd00\">vinai/bertweet-base-cls-13.11.2024-10.38.35</strong> at: <a href='https://wandb.ai/rubikpf2002-mipt/nlp-classifier/runs/xeo4kdvp' target=\"_blank\">https://wandb.ai/rubikpf2002-mipt/nlp-classifier/runs/xeo4kdvp</a><br/> View project at: <a href='https://wandb.ai/rubikpf2002-mipt/nlp-classifier' target=\"_blank\">https://wandb.ai/rubikpf2002-mipt/nlp-classifier</a><br/>Synced 5 W&B file(s), 0 media file(s), 2 artifact file(s) and 0 other file(s)"
      ],
      "text/plain": [
       "<IPython.core.display.HTML object>"
      ]
     },
     "metadata": {},
     "output_type": "display_data"
    },
    {
     "data": {
      "text/html": [
       "Find logs at: <code>./wandb/run-20241113_103835-xeo4kdvp/logs</code>"
      ],
      "text/plain": [
       "<IPython.core.display.HTML object>"
      ]
     },
     "metadata": {},
     "output_type": "display_data"
    }
   ],
   "source": [
    "# Закрыть сессию WandB\n",
    "wandb.finish()"
   ]
  },
  {
   "cell_type": "code",
   "execution_count": null,
   "metadata": {
    "id": "RivrdiL4thS1"
   },
   "outputs": [],
   "source": [
    "# model.save_pretrained(\"./seved_model\")"
   ]
  },
  {
   "cell_type": "code",
   "execution_count": null,
   "metadata": {
    "id": "xlsnfRxothS1"
   },
   "outputs": [],
   "source": [
    "# text = dataset['test'][18]['sentence1'] + ' ' + dataset['test'][18]['sentence2']\n",
    "# true_label = [dataset['test'][18]['label_0'], dataset['test'][18]['label_1']]\n",
    "# if true_label[0]:\n",
    "#   true_label = 'label_0'\n",
    "# else:\n",
    "#   true_label = 'label_1'\n",
    "# print(text)\n",
    "# encoding = tokenizer(text, return_tensors=\"pt\")\n",
    "# encoding = {k: v.to(trainer.model.device) for k,v in encoding.items()}\n",
    "# print(encoding)\n",
    "# outputs = trainer.model(**encoding)\n",
    "# logits = outputs.logits\n",
    "# print(logits.shape)\n",
    "# sigmoid = torch.nn.Sigmoid()\n",
    "# probs = sigmoid(logits.squeeze().cpu())\n",
    "# print(probs)\n",
    "# predictions = np.zeros(probs.shape)\n",
    "# predictions[np.where(probs >= 0.5)] = 1\n",
    "\n",
    "# # turn predicted id's into actual label names\n",
    "# predicted_labels = [id2label[idx] for idx, label in enumerate(predictions) if label == 1.0]\n",
    "# print(predicted_labels)\n",
    "# print(true_label)"
   ]
  },
  {
   "cell_type": "code",
   "execution_count": null,
   "metadata": {
    "id": "sYs-F8HD7aR9"
   },
   "outputs": [],
   "source": [
    "# устанавливаем модель в inference режим\n",
    "model.eval()"
   ]
  },
  {
   "cell_type": "code",
   "execution_count": null,
   "metadata": {
    "id": "_URP_2L79AOM"
   },
   "outputs": [],
   "source": [
    "test_dataset = encoded_dataset['test'] # заметим, что здесь test_dataset уже подготовлен к инференсу см. выше"
   ]
  },
  {
   "cell_type": "code",
   "execution_count": null,
   "metadata": {
    "id": "dDyic_ge9YKj"
   },
   "outputs": [],
   "source": [
    "from torch.utils.data import DataLoader\n",
    "\n",
    "test_dataloader = DataLoader(test_dataset, batch_size=16)"
   ]
  },
  {
   "cell_type": "code",
   "execution_count": null,
   "metadata": {
    "id": "Wp9DfZaB94Jb"
   },
   "outputs": [],
   "source": [
    "# for batch in test_dataloader:\n",
    "#     print(batch)\n",
    "#     break"
   ]
  },
  {
   "cell_type": "code",
   "execution_count": null,
   "metadata": {
    "id": "9vGp3sQj-d_7"
   },
   "outputs": [],
   "source": [
    "from sklearn.metrics import classification_report"
   ]
  },
  {
   "cell_type": "code",
   "execution_count": null,
   "metadata": {
    "id": "JsoszbrO9lm-"
   },
   "outputs": [],
   "source": [
    "predictions = []\n",
    "true_labels = []\n",
    "\n",
    "for batch in test_dataloader:\n",
    "  # Move batch data to the same device as the model\n",
    "  batch = {k: v.to(model.device) for k, v in batch.items()}\n",
    "\n",
    "  with torch.no_grad():\n",
    "    outputs = model(**batch)\n",
    "\n",
    "  logits = outputs.logits\n",
    "  preds = np.argmax(logits.cpu().numpy(), axis=1)\n",
    "  predictions.extend(preds)\n",
    "\n",
    "  true_batch_labels = batch['labels'].cpu().numpy()\n",
    "  true_labels.extend(true_batch_labels.T[1])  # Добавляем истинные метки для оценки\n",
    "\n",
    "# 5. Оценка качества\n",
    "f1_micro_average = f1_score(y_true=true_labels, y_pred=predictions, average='micro')\n",
    "roc_auc = roc_auc_score(true_labels, predictions, average = 'micro')\n",
    "accuracy = accuracy_score(true_labels, predictions)\n",
    "# return as dictionary\n",
    "metrics = {'f1': f1_micro_average,\n",
    "            'roc_auc': roc_auc,\n",
    "            'accuracy': accuracy}\n",
    "report = classification_report(true_labels, predictions)\n",
    "\n",
    "print(f\"Accuracy: {accuracy}\")\n",
    "print(metrics)\n",
    "print(report)"
   ]
  }
 ],
 "metadata": {
  "accelerator": "GPU",
  "colab": {
   "gpuType": "T4",
   "provenance": []
  },
  "kernelspec": {
   "display_name": ".venv",
   "language": "python",
   "name": "python3"
  },
  "language_info": {
   "codemirror_mode": {
    "name": "ipython",
    "version": 3
   },
   "file_extension": ".py",
   "mimetype": "text/x-python",
   "name": "python",
   "nbconvert_exporter": "python",
   "pygments_lexer": "ipython3",
   "version": "3.10.12"
  }
 },
 "nbformat": 4,
 "nbformat_minor": 0
}
